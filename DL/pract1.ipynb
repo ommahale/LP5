{
 "cells": [
  {
   "cell_type": "markdown",
   "metadata": {
    "id": "BDX0Dc3gRxA1"
   },
   "source": [
    "Linear regression by using Deep Neural network: Implement Boston housing price\n",
    "prediction problem by Linear regression using Deep Neural network. Use Boston House price prediction dataset."
   ]
  },
  {
   "cell_type": "code",
   "execution_count": 1,
   "metadata": {
    "colab": {
     "base_uri": "https://localhost:8080/",
     "height": 73
    },
    "id": "cmuOOlKXWyr6",
    "outputId": "adec943c-58f0-4902-861f-c2f61c9f1867"
   },
   "outputs": [],
   "source": [
    "import io\n",
    "import pandas as pd\n",
    "import numpy as np\n",
    "import matplotlib.pyplot as plt\n",
    "import seaborn as sns\n",
    "%matplotlib inline\n",
    "from sklearn.model_selection import train_test_split\n",
    "from sklearn.preprocessing import StandardScaler\n",
    "import tensorflow as tf\n",
    "from tensorflow import keras\n",
    "from tensorflow.keras import layers\n",
    "from sklearn.metrics import mean_absolute_error, r2_score\n",
    "import warnings\n",
    "warnings.filterwarnings('ignore')"
   ]
  },
  {
   "cell_type": "code",
   "execution_count": 2,
   "metadata": {
    "colab": {
     "base_uri": "https://localhost:8080/",
     "height": 424
    },
    "id": "DXrs8kympMDS",
    "outputId": "49786a28-dbdf-4623-f3ed-7356e55c2bb0"
   },
   "outputs": [
    {
     "data": {
      "text/html": [
       "<div>\n",
       "<style scoped>\n",
       "    .dataframe tbody tr th:only-of-type {\n",
       "        vertical-align: middle;\n",
       "    }\n",
       "\n",
       "    .dataframe tbody tr th {\n",
       "        vertical-align: top;\n",
       "    }\n",
       "\n",
       "    .dataframe thead th {\n",
       "        text-align: right;\n",
       "    }\n",
       "</style>\n",
       "<table border=\"1\" class=\"dataframe\">\n",
       "  <thead>\n",
       "    <tr style=\"text-align: right;\">\n",
       "      <th></th>\n",
       "      <th>CRIM</th>\n",
       "      <th>ZN</th>\n",
       "      <th>INDUS</th>\n",
       "      <th>CHAS</th>\n",
       "      <th>NOX</th>\n",
       "      <th>RM</th>\n",
       "      <th>AGE</th>\n",
       "      <th>DIS</th>\n",
       "      <th>RAD</th>\n",
       "      <th>TAX</th>\n",
       "      <th>PTRATIO</th>\n",
       "      <th>B</th>\n",
       "      <th>LSTAT</th>\n",
       "      <th>MEDV</th>\n",
       "    </tr>\n",
       "  </thead>\n",
       "  <tbody>\n",
       "    <tr>\n",
       "      <th>0</th>\n",
       "      <td>0.00632</td>\n",
       "      <td>18.0</td>\n",
       "      <td>2.31</td>\n",
       "      <td>0.0</td>\n",
       "      <td>0.538</td>\n",
       "      <td>6.575</td>\n",
       "      <td>65.2</td>\n",
       "      <td>4.0900</td>\n",
       "      <td>1</td>\n",
       "      <td>296</td>\n",
       "      <td>15.3</td>\n",
       "      <td>396.90</td>\n",
       "      <td>4.98</td>\n",
       "      <td>24.0</td>\n",
       "    </tr>\n",
       "    <tr>\n",
       "      <th>1</th>\n",
       "      <td>0.02731</td>\n",
       "      <td>0.0</td>\n",
       "      <td>7.07</td>\n",
       "      <td>0.0</td>\n",
       "      <td>0.469</td>\n",
       "      <td>6.421</td>\n",
       "      <td>78.9</td>\n",
       "      <td>4.9671</td>\n",
       "      <td>2</td>\n",
       "      <td>242</td>\n",
       "      <td>17.8</td>\n",
       "      <td>396.90</td>\n",
       "      <td>9.14</td>\n",
       "      <td>21.6</td>\n",
       "    </tr>\n",
       "    <tr>\n",
       "      <th>2</th>\n",
       "      <td>0.02729</td>\n",
       "      <td>0.0</td>\n",
       "      <td>7.07</td>\n",
       "      <td>0.0</td>\n",
       "      <td>0.469</td>\n",
       "      <td>7.185</td>\n",
       "      <td>61.1</td>\n",
       "      <td>4.9671</td>\n",
       "      <td>2</td>\n",
       "      <td>242</td>\n",
       "      <td>17.8</td>\n",
       "      <td>392.83</td>\n",
       "      <td>4.03</td>\n",
       "      <td>34.7</td>\n",
       "    </tr>\n",
       "    <tr>\n",
       "      <th>3</th>\n",
       "      <td>0.03237</td>\n",
       "      <td>0.0</td>\n",
       "      <td>2.18</td>\n",
       "      <td>0.0</td>\n",
       "      <td>0.458</td>\n",
       "      <td>6.998</td>\n",
       "      <td>45.8</td>\n",
       "      <td>6.0622</td>\n",
       "      <td>3</td>\n",
       "      <td>222</td>\n",
       "      <td>18.7</td>\n",
       "      <td>394.63</td>\n",
       "      <td>2.94</td>\n",
       "      <td>33.4</td>\n",
       "    </tr>\n",
       "    <tr>\n",
       "      <th>4</th>\n",
       "      <td>0.06905</td>\n",
       "      <td>0.0</td>\n",
       "      <td>2.18</td>\n",
       "      <td>0.0</td>\n",
       "      <td>0.458</td>\n",
       "      <td>7.147</td>\n",
       "      <td>54.2</td>\n",
       "      <td>6.0622</td>\n",
       "      <td>3</td>\n",
       "      <td>222</td>\n",
       "      <td>18.7</td>\n",
       "      <td>396.90</td>\n",
       "      <td>NaN</td>\n",
       "      <td>36.2</td>\n",
       "    </tr>\n",
       "    <tr>\n",
       "      <th>...</th>\n",
       "      <td>...</td>\n",
       "      <td>...</td>\n",
       "      <td>...</td>\n",
       "      <td>...</td>\n",
       "      <td>...</td>\n",
       "      <td>...</td>\n",
       "      <td>...</td>\n",
       "      <td>...</td>\n",
       "      <td>...</td>\n",
       "      <td>...</td>\n",
       "      <td>...</td>\n",
       "      <td>...</td>\n",
       "      <td>...</td>\n",
       "      <td>...</td>\n",
       "    </tr>\n",
       "    <tr>\n",
       "      <th>501</th>\n",
       "      <td>0.06263</td>\n",
       "      <td>0.0</td>\n",
       "      <td>11.93</td>\n",
       "      <td>0.0</td>\n",
       "      <td>0.573</td>\n",
       "      <td>6.593</td>\n",
       "      <td>69.1</td>\n",
       "      <td>2.4786</td>\n",
       "      <td>1</td>\n",
       "      <td>273</td>\n",
       "      <td>21.0</td>\n",
       "      <td>391.99</td>\n",
       "      <td>NaN</td>\n",
       "      <td>22.4</td>\n",
       "    </tr>\n",
       "    <tr>\n",
       "      <th>502</th>\n",
       "      <td>0.04527</td>\n",
       "      <td>0.0</td>\n",
       "      <td>11.93</td>\n",
       "      <td>0.0</td>\n",
       "      <td>0.573</td>\n",
       "      <td>6.120</td>\n",
       "      <td>76.7</td>\n",
       "      <td>2.2875</td>\n",
       "      <td>1</td>\n",
       "      <td>273</td>\n",
       "      <td>21.0</td>\n",
       "      <td>396.90</td>\n",
       "      <td>9.08</td>\n",
       "      <td>20.6</td>\n",
       "    </tr>\n",
       "    <tr>\n",
       "      <th>503</th>\n",
       "      <td>0.06076</td>\n",
       "      <td>0.0</td>\n",
       "      <td>11.93</td>\n",
       "      <td>0.0</td>\n",
       "      <td>0.573</td>\n",
       "      <td>6.976</td>\n",
       "      <td>91.0</td>\n",
       "      <td>2.1675</td>\n",
       "      <td>1</td>\n",
       "      <td>273</td>\n",
       "      <td>21.0</td>\n",
       "      <td>396.90</td>\n",
       "      <td>5.64</td>\n",
       "      <td>23.9</td>\n",
       "    </tr>\n",
       "    <tr>\n",
       "      <th>504</th>\n",
       "      <td>0.10959</td>\n",
       "      <td>0.0</td>\n",
       "      <td>11.93</td>\n",
       "      <td>0.0</td>\n",
       "      <td>0.573</td>\n",
       "      <td>6.794</td>\n",
       "      <td>89.3</td>\n",
       "      <td>2.3889</td>\n",
       "      <td>1</td>\n",
       "      <td>273</td>\n",
       "      <td>21.0</td>\n",
       "      <td>393.45</td>\n",
       "      <td>6.48</td>\n",
       "      <td>22.0</td>\n",
       "    </tr>\n",
       "    <tr>\n",
       "      <th>505</th>\n",
       "      <td>0.04741</td>\n",
       "      <td>0.0</td>\n",
       "      <td>11.93</td>\n",
       "      <td>0.0</td>\n",
       "      <td>0.573</td>\n",
       "      <td>6.030</td>\n",
       "      <td>NaN</td>\n",
       "      <td>2.5050</td>\n",
       "      <td>1</td>\n",
       "      <td>273</td>\n",
       "      <td>21.0</td>\n",
       "      <td>396.90</td>\n",
       "      <td>7.88</td>\n",
       "      <td>11.9</td>\n",
       "    </tr>\n",
       "  </tbody>\n",
       "</table>\n",
       "<p>506 rows × 14 columns</p>\n",
       "</div>"
      ],
      "text/plain": [
       "        CRIM    ZN  INDUS  CHAS    NOX     RM   AGE     DIS  RAD  TAX  \\\n",
       "0    0.00632  18.0   2.31   0.0  0.538  6.575  65.2  4.0900    1  296   \n",
       "1    0.02731   0.0   7.07   0.0  0.469  6.421  78.9  4.9671    2  242   \n",
       "2    0.02729   0.0   7.07   0.0  0.469  7.185  61.1  4.9671    2  242   \n",
       "3    0.03237   0.0   2.18   0.0  0.458  6.998  45.8  6.0622    3  222   \n",
       "4    0.06905   0.0   2.18   0.0  0.458  7.147  54.2  6.0622    3  222   \n",
       "..       ...   ...    ...   ...    ...    ...   ...     ...  ...  ...   \n",
       "501  0.06263   0.0  11.93   0.0  0.573  6.593  69.1  2.4786    1  273   \n",
       "502  0.04527   0.0  11.93   0.0  0.573  6.120  76.7  2.2875    1  273   \n",
       "503  0.06076   0.0  11.93   0.0  0.573  6.976  91.0  2.1675    1  273   \n",
       "504  0.10959   0.0  11.93   0.0  0.573  6.794  89.3  2.3889    1  273   \n",
       "505  0.04741   0.0  11.93   0.0  0.573  6.030   NaN  2.5050    1  273   \n",
       "\n",
       "     PTRATIO       B  LSTAT  MEDV  \n",
       "0       15.3  396.90   4.98  24.0  \n",
       "1       17.8  396.90   9.14  21.6  \n",
       "2       17.8  392.83   4.03  34.7  \n",
       "3       18.7  394.63   2.94  33.4  \n",
       "4       18.7  396.90    NaN  36.2  \n",
       "..       ...     ...    ...   ...  \n",
       "501     21.0  391.99    NaN  22.4  \n",
       "502     21.0  396.90   9.08  20.6  \n",
       "503     21.0  396.90   5.64  23.9  \n",
       "504     21.0  393.45   6.48  22.0  \n",
       "505     21.0  396.90   7.88  11.9  \n",
       "\n",
       "[506 rows x 14 columns]"
      ]
     },
     "execution_count": 2,
     "metadata": {},
     "output_type": "execute_result"
    }
   ],
   "source": [
    "# Importing DataSet and take a look at Data\n",
    "data = pd.read_csv('housing_data - housing_data.csv')\n",
    "data"
   ]
  },
  {
   "cell_type": "code",
   "execution_count": 3,
   "metadata": {
    "id": "-mBBqdK-3CrK"
   },
   "outputs": [],
   "source": [
    "# Handle null values by filling them with the mean of the respective columns\n",
    "data.fillna(data.mean(), inplace=True)"
   ]
  },
  {
   "cell_type": "code",
   "execution_count": 4,
   "metadata": {
    "colab": {
     "base_uri": "https://localhost:8080/"
    },
    "id": "z6WHwijCDQ1i",
    "outputId": "c50b70a8-6019-4179-aef7-cdd9dc14ca51"
   },
   "outputs": [
    {
     "data": {
      "text/plain": [
       "CRIM       0\n",
       "ZN         0\n",
       "INDUS      0\n",
       "CHAS       0\n",
       "NOX        0\n",
       "RM         0\n",
       "AGE        0\n",
       "DIS        0\n",
       "RAD        0\n",
       "TAX        0\n",
       "PTRATIO    0\n",
       "B          0\n",
       "LSTAT      0\n",
       "MEDV       0\n",
       "dtype: int64"
      ]
     },
     "execution_count": 4,
     "metadata": {},
     "output_type": "execute_result"
    }
   ],
   "source": [
    "data.isnull().sum()"
   ]
  },
  {
   "cell_type": "code",
   "execution_count": 5,
   "metadata": {
    "colab": {
     "base_uri": "https://localhost:8080/",
     "height": 320
    },
    "id": "_aaMaeGXDRB_",
    "outputId": "5b9d340c-e696-4a25-a90e-9e0029085e61"
   },
   "outputs": [
    {
     "data": {
      "text/html": [
       "<div>\n",
       "<style scoped>\n",
       "    .dataframe tbody tr th:only-of-type {\n",
       "        vertical-align: middle;\n",
       "    }\n",
       "\n",
       "    .dataframe tbody tr th {\n",
       "        vertical-align: top;\n",
       "    }\n",
       "\n",
       "    .dataframe thead th {\n",
       "        text-align: right;\n",
       "    }\n",
       "</style>\n",
       "<table border=\"1\" class=\"dataframe\">\n",
       "  <thead>\n",
       "    <tr style=\"text-align: right;\">\n",
       "      <th></th>\n",
       "      <th>CRIM</th>\n",
       "      <th>ZN</th>\n",
       "      <th>INDUS</th>\n",
       "      <th>CHAS</th>\n",
       "      <th>NOX</th>\n",
       "      <th>RM</th>\n",
       "      <th>AGE</th>\n",
       "      <th>DIS</th>\n",
       "      <th>RAD</th>\n",
       "      <th>TAX</th>\n",
       "      <th>PTRATIO</th>\n",
       "      <th>B</th>\n",
       "      <th>LSTAT</th>\n",
       "      <th>MEDV</th>\n",
       "    </tr>\n",
       "  </thead>\n",
       "  <tbody>\n",
       "    <tr>\n",
       "      <th>count</th>\n",
       "      <td>506.000000</td>\n",
       "      <td>506.000000</td>\n",
       "      <td>506.000000</td>\n",
       "      <td>506.000000</td>\n",
       "      <td>506.000000</td>\n",
       "      <td>506.000000</td>\n",
       "      <td>506.000000</td>\n",
       "      <td>506.000000</td>\n",
       "      <td>506.000000</td>\n",
       "      <td>506.000000</td>\n",
       "      <td>506.000000</td>\n",
       "      <td>506.000000</td>\n",
       "      <td>506.000000</td>\n",
       "      <td>506.000000</td>\n",
       "    </tr>\n",
       "    <tr>\n",
       "      <th>mean</th>\n",
       "      <td>3.611874</td>\n",
       "      <td>11.211934</td>\n",
       "      <td>11.083992</td>\n",
       "      <td>0.069959</td>\n",
       "      <td>0.554695</td>\n",
       "      <td>6.284634</td>\n",
       "      <td>68.518519</td>\n",
       "      <td>3.795043</td>\n",
       "      <td>9.549407</td>\n",
       "      <td>408.237154</td>\n",
       "      <td>18.455534</td>\n",
       "      <td>356.674032</td>\n",
       "      <td>12.715432</td>\n",
       "      <td>22.532806</td>\n",
       "    </tr>\n",
       "    <tr>\n",
       "      <th>std</th>\n",
       "      <td>8.545770</td>\n",
       "      <td>22.921051</td>\n",
       "      <td>6.699165</td>\n",
       "      <td>0.250233</td>\n",
       "      <td>0.115878</td>\n",
       "      <td>0.702617</td>\n",
       "      <td>27.439466</td>\n",
       "      <td>2.105710</td>\n",
       "      <td>8.707259</td>\n",
       "      <td>168.537116</td>\n",
       "      <td>2.164946</td>\n",
       "      <td>91.294864</td>\n",
       "      <td>7.012739</td>\n",
       "      <td>9.197104</td>\n",
       "    </tr>\n",
       "    <tr>\n",
       "      <th>min</th>\n",
       "      <td>0.006320</td>\n",
       "      <td>0.000000</td>\n",
       "      <td>0.460000</td>\n",
       "      <td>0.000000</td>\n",
       "      <td>0.385000</td>\n",
       "      <td>3.561000</td>\n",
       "      <td>2.900000</td>\n",
       "      <td>1.129600</td>\n",
       "      <td>1.000000</td>\n",
       "      <td>187.000000</td>\n",
       "      <td>12.600000</td>\n",
       "      <td>0.320000</td>\n",
       "      <td>1.730000</td>\n",
       "      <td>5.000000</td>\n",
       "    </tr>\n",
       "    <tr>\n",
       "      <th>25%</th>\n",
       "      <td>0.083235</td>\n",
       "      <td>0.000000</td>\n",
       "      <td>5.190000</td>\n",
       "      <td>0.000000</td>\n",
       "      <td>0.449000</td>\n",
       "      <td>5.885500</td>\n",
       "      <td>45.925000</td>\n",
       "      <td>2.100175</td>\n",
       "      <td>4.000000</td>\n",
       "      <td>279.000000</td>\n",
       "      <td>17.400000</td>\n",
       "      <td>375.377500</td>\n",
       "      <td>7.230000</td>\n",
       "      <td>17.025000</td>\n",
       "    </tr>\n",
       "    <tr>\n",
       "      <th>50%</th>\n",
       "      <td>0.290250</td>\n",
       "      <td>0.000000</td>\n",
       "      <td>9.900000</td>\n",
       "      <td>0.000000</td>\n",
       "      <td>0.538000</td>\n",
       "      <td>6.208500</td>\n",
       "      <td>74.450000</td>\n",
       "      <td>3.207450</td>\n",
       "      <td>5.000000</td>\n",
       "      <td>330.000000</td>\n",
       "      <td>19.050000</td>\n",
       "      <td>391.440000</td>\n",
       "      <td>11.995000</td>\n",
       "      <td>21.200000</td>\n",
       "    </tr>\n",
       "    <tr>\n",
       "      <th>75%</th>\n",
       "      <td>3.611874</td>\n",
       "      <td>11.211934</td>\n",
       "      <td>18.100000</td>\n",
       "      <td>0.000000</td>\n",
       "      <td>0.624000</td>\n",
       "      <td>6.623500</td>\n",
       "      <td>93.575000</td>\n",
       "      <td>5.188425</td>\n",
       "      <td>24.000000</td>\n",
       "      <td>666.000000</td>\n",
       "      <td>20.200000</td>\n",
       "      <td>396.225000</td>\n",
       "      <td>16.570000</td>\n",
       "      <td>25.000000</td>\n",
       "    </tr>\n",
       "    <tr>\n",
       "      <th>max</th>\n",
       "      <td>88.976200</td>\n",
       "      <td>100.000000</td>\n",
       "      <td>27.740000</td>\n",
       "      <td>1.000000</td>\n",
       "      <td>0.871000</td>\n",
       "      <td>8.780000</td>\n",
       "      <td>100.000000</td>\n",
       "      <td>12.126500</td>\n",
       "      <td>24.000000</td>\n",
       "      <td>711.000000</td>\n",
       "      <td>22.000000</td>\n",
       "      <td>396.900000</td>\n",
       "      <td>37.970000</td>\n",
       "      <td>50.000000</td>\n",
       "    </tr>\n",
       "  </tbody>\n",
       "</table>\n",
       "</div>"
      ],
      "text/plain": [
       "             CRIM          ZN       INDUS        CHAS         NOX          RM  \\\n",
       "count  506.000000  506.000000  506.000000  506.000000  506.000000  506.000000   \n",
       "mean     3.611874   11.211934   11.083992    0.069959    0.554695    6.284634   \n",
       "std      8.545770   22.921051    6.699165    0.250233    0.115878    0.702617   \n",
       "min      0.006320    0.000000    0.460000    0.000000    0.385000    3.561000   \n",
       "25%      0.083235    0.000000    5.190000    0.000000    0.449000    5.885500   \n",
       "50%      0.290250    0.000000    9.900000    0.000000    0.538000    6.208500   \n",
       "75%      3.611874   11.211934   18.100000    0.000000    0.624000    6.623500   \n",
       "max     88.976200  100.000000   27.740000    1.000000    0.871000    8.780000   \n",
       "\n",
       "              AGE         DIS         RAD         TAX     PTRATIO           B  \\\n",
       "count  506.000000  506.000000  506.000000  506.000000  506.000000  506.000000   \n",
       "mean    68.518519    3.795043    9.549407  408.237154   18.455534  356.674032   \n",
       "std     27.439466    2.105710    8.707259  168.537116    2.164946   91.294864   \n",
       "min      2.900000    1.129600    1.000000  187.000000   12.600000    0.320000   \n",
       "25%     45.925000    2.100175    4.000000  279.000000   17.400000  375.377500   \n",
       "50%     74.450000    3.207450    5.000000  330.000000   19.050000  391.440000   \n",
       "75%     93.575000    5.188425   24.000000  666.000000   20.200000  396.225000   \n",
       "max    100.000000   12.126500   24.000000  711.000000   22.000000  396.900000   \n",
       "\n",
       "            LSTAT        MEDV  \n",
       "count  506.000000  506.000000  \n",
       "mean    12.715432   22.532806  \n",
       "std      7.012739    9.197104  \n",
       "min      1.730000    5.000000  \n",
       "25%      7.230000   17.025000  \n",
       "50%     11.995000   21.200000  \n",
       "75%     16.570000   25.000000  \n",
       "max     37.970000   50.000000  "
      ]
     },
     "execution_count": 5,
     "metadata": {},
     "output_type": "execute_result"
    }
   ],
   "source": [
    "data.describe()"
   ]
  },
  {
   "cell_type": "code",
   "execution_count": 6,
   "metadata": {
    "colab": {
     "base_uri": "https://localhost:8080/"
    },
    "id": "qFq-yTBWD4eH",
    "outputId": "5754ac65-0725-4fc9-93e5-053729bd228a"
   },
   "outputs": [
    {
     "name": "stdout",
     "output_type": "stream",
     "text": [
      "<class 'pandas.core.frame.DataFrame'>\n",
      "RangeIndex: 506 entries, 0 to 505\n",
      "Data columns (total 14 columns):\n",
      " #   Column   Non-Null Count  Dtype  \n",
      "---  ------   --------------  -----  \n",
      " 0   CRIM     506 non-null    float64\n",
      " 1   ZN       506 non-null    float64\n",
      " 2   INDUS    506 non-null    float64\n",
      " 3   CHAS     506 non-null    float64\n",
      " 4   NOX      506 non-null    float64\n",
      " 5   RM       506 non-null    float64\n",
      " 6   AGE      506 non-null    float64\n",
      " 7   DIS      506 non-null    float64\n",
      " 8   RAD      506 non-null    int64  \n",
      " 9   TAX      506 non-null    int64  \n",
      " 10  PTRATIO  506 non-null    float64\n",
      " 11  B        506 non-null    float64\n",
      " 12  LSTAT    506 non-null    float64\n",
      " 13  MEDV     506 non-null    float64\n",
      "dtypes: float64(12), int64(2)\n",
      "memory usage: 55.5 KB\n"
     ]
    },
    {
     "data": {
      "text/plain": [
       "(506, 14)"
      ]
     },
     "execution_count": 6,
     "metadata": {},
     "output_type": "execute_result"
    }
   ],
   "source": [
    "data.info()\n",
    "data.shape"
   ]
  },
  {
   "cell_type": "code",
   "execution_count": 7,
   "metadata": {
    "colab": {
     "base_uri": "https://localhost:8080/",
     "height": 466
    },
    "id": "DSK69RZjEMcG",
    "outputId": "d7f9a898-76b8-4c4e-e218-4f300b30e788"
   },
   "outputs": [
    {
     "data": {
      "text/plain": [
       "<AxesSubplot:xlabel='MEDV', ylabel='Density'>"
      ]
     },
     "execution_count": 7,
     "metadata": {},
     "output_type": "execute_result"
    },
    {
     "data": {
      "image/png": "[encoded data removed]",
      "text/plain": [
       "<Figure size 432x288 with 1 Axes>"
      ]
     },
     "metadata": {
      "needs_background": "light"
     },
     "output_type": "display_data"
    }
   ],
   "source": [
    "import seaborn as sns\n",
    "sns.distplot(data.MEDV)"
   ]
  },
  {
   "cell_type": "code",
   "execution_count": 8,
   "metadata": {
    "colab": {
     "base_uri": "https://localhost:8080/",
     "height": 428
    },
    "id": "w3OuTpEqEMe3",
    "outputId": "daa95c9c-cd2f-482d-ce83-b3ab979d785f"
   },
   "outputs": [
    {
     "data": {
      "text/plain": [
       "<AxesSubplot:xlabel='MEDV'>"
      ]
     },
     "execution_count": 8,
     "metadata": {},
     "output_type": "execute_result"
    },
    {
     "data": {
      "image/png": "[encoded data removed]",
      "text/plain": [
       "<Figure size 432x288 with 1 Axes>"
      ]
     },
     "metadata": {
      "needs_background": "light"
     },
     "output_type": "display_data"
    }
   ],
   "source": [
    "sns.boxplot(data.MEDV)"
   ]
  },
  {
   "cell_type": "code",
   "execution_count": 9,
   "metadata": {
    "colab": {
     "base_uri": "https://localhost:8080/"
    },
    "id": "YSGly0efEMhf",
    "outputId": "0b7f15a6-a6ab-4398-ab16-f622f2422328"
   },
   "outputs": [
    {
     "data": {
      "text/plain": [
       "CRIM      -0.379695\n",
       "ZN         0.365943\n",
       "INDUS     -0.478657\n",
       "CHAS       0.179882\n",
       "NOX       -0.427321\n",
       "RM         0.695360\n",
       "AGE       -0.380223\n",
       "DIS        0.249929\n",
       "RAD       -0.381626\n",
       "TAX       -0.468536\n",
       "PTRATIO   -0.507787\n",
       "B          0.333461\n",
       "LSTAT     -0.721975\n",
       "MEDV       1.000000\n",
       "Name: MEDV, dtype: float64"
      ]
     },
     "execution_count": 9,
     "metadata": {},
     "output_type": "execute_result"
    }
   ],
   "source": [
    "correlation = data.corr()\n",
    "correlation.loc['MEDV']"
   ]
  },
  {
   "cell_type": "code",
   "execution_count": 10,
   "metadata": {
    "colab": {
     "base_uri": "https://localhost:8080/",
     "height": 1000
    },
    "id": "LjtYSlUtEMk2",
    "outputId": "35dc186d-8af6-4d94-a4d2-bc33aeef5134"
   },
   "outputs": [
    {
     "data": {
      "text/plain": [
       "<AxesSubplot:>"
      ]
     },
     "execution_count": 10,
     "metadata": {},
     "output_type": "execute_result"
    },
    {
     "data": {
      "image/png": "[encoded data removed]",
      "text/plain": [
       "<Figure size 1080x864 with 2 Axes>"
      ]
     },
     "metadata": {
      "needs_background": "light"
     },
     "output_type": "display_data"
    }
   ],
   "source": [
    "# plotting the heatmap\n",
    "import matplotlib.pyplot as plt\n",
    "fig,axes = plt.subplots(figsize=(15,12))\n",
    "sns.heatmap(correlation,square = True,annot = True)"
   ]
  },
  {
   "cell_type": "code",
   "execution_count": 11,
   "metadata": {
    "colab": {
     "base_uri": "https://localhost:8080/",
     "height": 378
    },
    "id": "wVD-_chtEMnm",
    "outputId": "c4088e17-5f5c-4bef-92e0-4a3dec1a6f7d"
   },
   "outputs": [
    {
     "data": {
      "image/png": "[encoded data removed]",
      "text/plain": [
       "<Figure size 1440x360 with 3 Axes>"
      ]
     },
     "metadata": {
      "needs_background": "light"
     },
     "output_type": "display_data"
    }
   ],
   "source": [
    "# Checking the scatter plot with the most correlated features\n",
    "plt.figure(figsize = (20,5))\n",
    "features = ['LSTAT','RM','PTRATIO']\n",
    "for i, col in enumerate(features):\n",
    "  plt.subplot(1, len(features) , i+1)\n",
    "  x = data[col]\n",
    "  y = data.MEDV\n",
    "  plt.scatter(x, y, marker='o')\n",
    "  plt.title(\"Variation in House prices\")\n",
    "  plt.xlabel(col)\n",
    "  plt.ylabel('\"House prices in $1000\"')"
   ]
  },
  {
   "cell_type": "code",
   "execution_count": 12,
   "metadata": {
    "id": "rksaw0YmEL33"
   },
   "outputs": [],
   "source": [
    "# Splitting the dependent feature and independent feature\n",
    "#X = data[['LSTAT','RM','PTRATIO']]\n",
    "X = data.iloc[:,:-1]\n",
    "y= data.MEDV"
   ]
  },
  {
   "cell_type": "code",
   "execution_count": 13,
   "metadata": {
    "colab": {
     "base_uri": "https://localhost:8080/",
     "height": 75
    },
    "id": "NcbQIjY0FukO",
    "outputId": "93f5e0c6-66c8-47c5-c38a-e2985d40cd2c"
   },
   "outputs": [
    {
     "data": {
      "text/html": [
       "<style>#sk-container-id-1 {color: black;}#sk-container-id-1 pre{padding: 0;}#sk-container-id-1 div.sk-toggleable {background-color: white;}#sk-container-id-1 label.sk-toggleable__label {cursor: pointer;display: block;width: 100%;margin-bottom: 0;padding: 0.3em;box-sizing: border-box;text-align: center;}#sk-container-id-1 label.sk-toggleable__label-arrow:before {content: \"▸\";float: left;margin-right: 0.25em;color: #696969;}#sk-container-id-1 label.sk-toggleable__label-arrow:hover:before {color: black;}#sk-container-id-1 div.sk-estimator:hover label.sk-toggleable__label-arrow:before {color: black;}#sk-container-id-1 div.sk-toggleable__content {max-height: 0;max-width: 0;overflow: hidden;text-align: left;background-color: #f0f8ff;}#sk-container-id-1 div.sk-toggleable__content pre {margin: 0.2em;color: black;border-radius: 0.25em;background-color: #f0f8ff;}#sk-container-id-1 input.sk-toggleable__control:checked~div.sk-toggleable__content {max-height: 200px;max-width: 100%;overflow: auto;}#sk-container-id-1 input.sk-toggleable__control:checked~label.sk-toggleable__label-arrow:before {content: \"▾\";}#sk-container-id-1 div.sk-estimator input.sk-toggleable__control:checked~label.sk-toggleable__label {background-color: #d4ebff;}#sk-container-id-1 div.sk-label input.sk-toggleable__control:checked~label.sk-toggleable__label {background-color: #d4ebff;}#sk-container-id-1 input.sk-hidden--visually {border: 0;clip: rect(1px 1px 1px 1px);clip: rect(1px, 1px, 1px, 1px);height: 1px;margin: -1px;overflow: hidden;padding: 0;position: absolute;width: 1px;}#sk-container-id-1 div.sk-estimator {font-family: monospace;background-color: #f0f8ff;border: 1px dotted black;border-radius: 0.25em;box-sizing: border-box;margin-bottom: 0.5em;}#sk-container-id-1 div.sk-estimator:hover {background-color: #d4ebff;}#sk-container-id-1 div.sk-parallel-item::after {content: \"\";width: 100%;border-bottom: 1px solid gray;flex-grow: 1;}#sk-container-id-1 div.sk-label:hover label.sk-toggleable__label {background-color: #d4ebff;}#sk-container-id-1 div.sk-serial::before {content: \"\";position: absolute;border-left: 1px solid gray;box-sizing: border-box;top: 0;bottom: 0;left: 50%;z-index: 0;}#sk-container-id-1 div.sk-serial {display: flex;flex-direction: column;align-items: center;background-color: white;padding-right: 0.2em;padding-left: 0.2em;position: relative;}#sk-container-id-1 div.sk-item {position: relative;z-index: 1;}#sk-container-id-1 div.sk-parallel {display: flex;align-items: stretch;justify-content: center;background-color: white;position: relative;}#sk-container-id-1 div.sk-item::before, #sk-container-id-1 div.sk-parallel-item::before {content: \"\";position: absolute;border-left: 1px solid gray;box-sizing: border-box;top: 0;bottom: 0;left: 50%;z-index: -1;}#sk-container-id-1 div.sk-parallel-item {display: flex;flex-direction: column;z-index: 1;position: relative;background-color: white;}#sk-container-id-1 div.sk-parallel-item:first-child::after {align-self: flex-end;width: 50%;}#sk-container-id-1 div.sk-parallel-item:last-child::after {align-self: flex-start;width: 50%;}#sk-container-id-1 div.sk-parallel-item:only-child::after {width: 0;}#sk-container-id-1 div.sk-dashed-wrapped {border: 1px dashed gray;margin: 0 0.4em 0.5em 0.4em;box-sizing: border-box;padding-bottom: 0.4em;background-color: white;}#sk-container-id-1 div.sk-label label {font-family: monospace;font-weight: bold;display: inline-block;line-height: 1.2em;}#sk-container-id-1 div.sk-label-container {text-align: center;}#sk-container-id-1 div.sk-container {/* jupyter's `normalize.less` sets `[hidden] { display: none; }` but bootstrap.min.css set `[hidden] { display: none !important; }` so we also need the `!important` here to be able to override the default hidden behavior on the sphinx rendered scikit-learn.org. See: https://github.com/scikit-learn/scikit-learn/issues/21755 */display: inline-block !important;position: relative;}#sk-container-id-1 div.sk-text-repr-fallback {display: none;}</style><div id=\"sk-container-id-1\" class=\"sk-top-container\"><div class=\"sk-text-repr-fallback\"><pre>LinearRegression()</pre><b>In a Jupyter environment, please rerun this cell to show the HTML representation or trust the notebook. <br />On GitHub, the HTML representation is unable to render, please try loading this page with nbviewer.org.</b></div><div class=\"sk-container\" hidden><div class=\"sk-item\"><div class=\"sk-estimator sk-toggleable\"><input class=\"sk-toggleable__control sk-hidden--visually\" id=\"sk-estimator-id-1\" type=\"checkbox\" checked><label for=\"sk-estimator-id-1\" class=\"sk-toggleable__label sk-toggleable__label-arrow\">LinearRegression</label><div class=\"sk-toggleable__content\"><pre>LinearRegression()</pre></div></div></div></div></div>"
      ],
      "text/plain": [
       "LinearRegression()"
      ]
     },
     "execution_count": 13,
     "metadata": {},
     "output_type": "execute_result"
    }
   ],
   "source": [
    "import numpy as np\n",
    "from sklearn.model_selection import train_test_split\n",
    "\n",
    "# Assuming you have data stored in some variables X and y\n",
    "# Splitting data into training and testing sets\n",
    "X_train, X_test, y_train, y_test = train_test_split(X, y, test_size=0.2, random_state=42)\n",
    "\n",
    "# Now you can proceed with the code you provided\n",
    "# Importing necessary libraries\n",
    "from sklearn.linear_model import LinearRegression\n",
    "from sklearn.preprocessing import StandardScaler\n",
    "\n",
    "# Scaling the features\n",
    "scaler = StandardScaler()\n",
    "X_train_scaled = scaler.fit_transform(X_train)\n",
    "X_test_scaled = scaler.transform(X_test)\n",
    "\n",
    "mean = X_train.mean(axis=0)\n",
    "std = X_train.std(axis=0)\n",
    "X_train = (X_train - mean) / std\n",
    "X_test = (X_test - mean) / std\n",
    "#Linear Regression\n",
    "\n",
    "from sklearn.linear_model import LinearRegression\n",
    "regressor = LinearRegression()\n",
    "#Fitting the model\n",
    "X_train, X_test, y_train, y_test = train_test_split(X, y, test_size=0.2, random_state=42)\n",
    "regressor.fit(X_train,y_train)"
   ]
  },
  {
   "cell_type": "code",
   "execution_count": 14,
   "metadata": {
    "colab": {
     "base_uri": "https://localhost:8080/"
    },
    "id": "dEphTSb0Fum9",
    "outputId": "ab36e3f6-40fa-429f-b2b0-4b77e65d92ed"
   },
   "outputs": [
    {
     "name": "stdout",
     "output_type": "stream",
     "text": [
      "5.001766890194158\n"
     ]
    }
   ],
   "source": [
    "#Prediction on the test dataset\n",
    "y_pred = regressor.predict(X_test)\n",
    "# Predicting RMSE the Test set results\n",
    "from sklearn.metrics import mean_squared_error\n",
    "rmse = (np.sqrt(mean_squared_error(y_test, y_pred)))\n",
    "print(rmse)"
   ]
  },
  {
   "cell_type": "code",
   "execution_count": 15,
   "metadata": {
    "colab": {
     "base_uri": "https://localhost:8080/"
    },
    "id": "9vVmb-tMFups",
    "outputId": "09711d1b-58de-4a56-e996-ddd3daab88c0"
   },
   "outputs": [
    {
     "name": "stdout",
     "output_type": "stream",
     "text": [
      "0.6588520195508162\n"
     ]
    }
   ],
   "source": [
    "from sklearn.metrics import r2_score\n",
    "r2 = r2_score(y_test, y_pred)\n",
    "print(r2)"
   ]
  },
  {
   "cell_type": "code",
   "execution_count": 16,
   "metadata": {
    "colab": {
     "base_uri": "https://localhost:8080/",
     "height": 1000
    },
    "id": "S-Z3ncinQZTG",
    "outputId": "c14aeaaa-fffc-40c8-e4cc-60adb3c50f4f",
    "scrolled": false
   },
   "outputs": [
    {
     "name": "stdout",
     "output_type": "stream",
     "text": [
      "You must install pydot (`pip install pydot`) and install graphviz (see instructions at https://graphviz.gitlab.io/download/) for plot_model to work.\n",
      "Epoch 1/100\n",
      "12/12 [==============================] - 2s 44ms/step - loss: 593.3365 - mae: 22.5031 - val_loss: 492.1255 - val_mae: 20.7200\n",
      "Epoch 2/100\n",
      "12/12 [==============================] - 0s 9ms/step - loss: 525.0057 - mae: 20.9747 - val_loss: 399.8764 - val_mae: 18.5050\n",
      "Epoch 3/100\n",
      "12/12 [==============================] - 0s 8ms/step - loss: 378.6923 - mae: 17.3772 - val_loss: 222.7657 - val_mae: 13.2538\n",
      "Epoch 4/100\n",
      "12/12 [==============================] - 0s 10ms/step - loss: 155.3056 - mae: 10.3306 - val_loss: 52.9837 - val_mae: 4.9532\n",
      "Epoch 5/100\n",
      "12/12 [==============================] - 0s 9ms/step - loss: 67.5092 - mae: 6.4644 - val_loss: 48.6647 - val_mae: 4.4646\n",
      "Epoch 6/100\n",
      "12/12 [==============================] - 0s 9ms/step - loss: 37.0765 - mae: 4.5780 - val_loss: 56.6724 - val_mae: 4.6085\n",
      "Epoch 7/100\n",
      "12/12 [==============================] - 0s 9ms/step - loss: 27.4871 - mae: 3.8358 - val_loss: 53.4959 - val_mae: 4.6053\n",
      "Epoch 8/100\n",
      "12/12 [==============================] - 0s 9ms/step - loss: 22.7617 - mae: 3.5466 - val_loss: 52.5010 - val_mae: 4.6640\n",
      "Epoch 9/100\n",
      "12/12 [==============================] - 0s 9ms/step - loss: 20.1987 - mae: 3.2901 - val_loss: 50.7301 - val_mae: 4.5293\n",
      "Epoch 10/100\n",
      "12/12 [==============================] - 0s 10ms/step - loss: 18.5831 - mae: 3.1421 - val_loss: 49.0089 - val_mae: 4.3896\n",
      "Epoch 11/100\n",
      "12/12 [==============================] - 0s 12ms/step - loss: 16.9307 - mae: 2.9703 - val_loss: 47.4259 - val_mae: 4.2535\n",
      "Epoch 12/100\n",
      "12/12 [==============================] - 0s 9ms/step - loss: 15.8584 - mae: 2.8793 - val_loss: 44.7945 - val_mae: 4.1555\n",
      "Epoch 13/100\n",
      "12/12 [==============================] - 0s 10ms/step - loss: 14.9110 - mae: 2.7769 - val_loss: 43.3636 - val_mae: 4.0691\n",
      "Epoch 14/100\n",
      "12/12 [==============================] - 0s 10ms/step - loss: 14.2704 - mae: 2.7415 - val_loss: 42.3949 - val_mae: 4.0346\n",
      "Epoch 15/100\n",
      "12/12 [==============================] - 0s 9ms/step - loss: 13.6585 - mae: 2.6691 - val_loss: 41.9805 - val_mae: 3.9858\n",
      "Epoch 16/100\n",
      "12/12 [==============================] - 0s 7ms/step - loss: 13.3851 - mae: 2.6387 - val_loss: 39.0053 - val_mae: 3.8408\n",
      "Epoch 17/100\n",
      "12/12 [==============================] - 0s 11ms/step - loss: 12.9651 - mae: 2.6520 - val_loss: 40.7240 - val_mae: 3.9047\n",
      "Epoch 18/100\n",
      "12/12 [==============================] - 0s 11ms/step - loss: 12.5664 - mae: 2.5557 - val_loss: 40.6434 - val_mae: 3.9262\n",
      "Epoch 19/100\n",
      "12/12 [==============================] - 0s 10ms/step - loss: 12.2979 - mae: 2.5747 - val_loss: 37.2956 - val_mae: 3.7524\n",
      "Epoch 20/100\n",
      "12/12 [==============================] - 0s 7ms/step - loss: 11.8418 - mae: 2.4917 - val_loss: 37.6266 - val_mae: 3.7707\n",
      "Epoch 21/100\n",
      "12/12 [==============================] - 0s 10ms/step - loss: 11.7158 - mae: 2.5176 - val_loss: 39.0760 - val_mae: 3.8018\n",
      "Epoch 22/100\n",
      "12/12 [==============================] - 0s 9ms/step - loss: 11.4431 - mae: 2.4458 - val_loss: 38.5427 - val_mae: 3.6912\n",
      "Epoch 23/100\n",
      "12/12 [==============================] - 0s 10ms/step - loss: 11.2924 - mae: 2.5149 - val_loss: 37.3225 - val_mae: 3.6865\n",
      "Epoch 24/100\n",
      "12/12 [==============================] - 0s 9ms/step - loss: 11.1942 - mae: 2.4082 - val_loss: 36.1898 - val_mae: 3.6670\n",
      "Epoch 25/100\n",
      "12/12 [==============================] - 0s 10ms/step - loss: 10.9826 - mae: 2.4827 - val_loss: 35.9758 - val_mae: 3.6580\n",
      "Epoch 26/100\n",
      "12/12 [==============================] - 0s 6ms/step - loss: 10.6356 - mae: 2.3610 - val_loss: 35.8442 - val_mae: 3.6747\n",
      "Epoch 27/100\n",
      "12/12 [==============================] - 0s 8ms/step - loss: 10.5184 - mae: 2.4071 - val_loss: 35.2805 - val_mae: 3.5572\n",
      "Epoch 28/100\n",
      "12/12 [==============================] - 0s 8ms/step - loss: 10.3016 - mae: 2.3593 - val_loss: 36.2390 - val_mae: 3.6871\n",
      "Epoch 29/100\n",
      "12/12 [==============================] - 0s 9ms/step - loss: 10.3144 - mae: 2.3381 - val_loss: 33.6862 - val_mae: 3.6116\n",
      "Epoch 30/100\n",
      "12/12 [==============================] - 0s 7ms/step - loss: 10.5037 - mae: 2.4386 - val_loss: 36.0907 - val_mae: 3.6182\n",
      "Epoch 31/100\n",
      "12/12 [==============================] - 0s 10ms/step - loss: 9.8025 - mae: 2.3110 - val_loss: 33.4866 - val_mae: 3.6011\n",
      "Epoch 32/100\n",
      "12/12 [==============================] - 0s 10ms/step - loss: 9.5271 - mae: 2.2879 - val_loss: 33.7885 - val_mae: 3.5193\n",
      "Epoch 33/100\n",
      "12/12 [==============================] - 0s 9ms/step - loss: 9.3183 - mae: 2.2621 - val_loss: 33.1790 - val_mae: 3.5449\n",
      "Epoch 34/100\n",
      "12/12 [==============================] - 0s 9ms/step - loss: 9.1131 - mae: 2.2614 - val_loss: 34.3521 - val_mae: 3.6106\n",
      "Epoch 35/100\n",
      "12/12 [==============================] - 0s 9ms/step - loss: 8.8850 - mae: 2.2105 - val_loss: 32.9580 - val_mae: 3.5442\n",
      "Epoch 36/100\n",
      "12/12 [==============================] - 0s 9ms/step - loss: 8.7797 - mae: 2.2195 - val_loss: 33.3213 - val_mae: 3.5653\n",
      "Epoch 37/100\n",
      "12/12 [==============================] - 0s 10ms/step - loss: 8.6799 - mae: 2.2248 - val_loss: 31.7044 - val_mae: 3.4381\n",
      "Epoch 38/100\n",
      "12/12 [==============================] - 0s 9ms/step - loss: 8.5635 - mae: 2.1858 - val_loss: 31.8526 - val_mae: 3.5358\n",
      "Epoch 39/100\n",
      "12/12 [==============================] - 0s 10ms/step - loss: 8.4396 - mae: 2.1538 - val_loss: 32.1248 - val_mae: 3.5076\n",
      "Epoch 40/100\n",
      "12/12 [==============================] - 0s 11ms/step - loss: 8.1019 - mae: 2.1395 - val_loss: 30.8459 - val_mae: 3.4163\n",
      "Epoch 41/100\n",
      "12/12 [==============================] - 0s 11ms/step - loss: 7.9169 - mae: 2.0986 - val_loss: 31.0522 - val_mae: 3.4657\n",
      "Epoch 42/100\n",
      "12/12 [==============================] - 0s 11ms/step - loss: 7.8935 - mae: 2.1001 - val_loss: 32.1896 - val_mae: 3.5412\n",
      "Epoch 43/100\n",
      "12/12 [==============================] - 0s 11ms/step - loss: 7.7575 - mae: 2.1354 - val_loss: 30.1514 - val_mae: 3.3762\n",
      "Epoch 44/100\n",
      "12/12 [==============================] - 0s 8ms/step - loss: 7.7905 - mae: 2.1055 - val_loss: 31.0291 - val_mae: 3.4593\n",
      "Epoch 45/100\n",
      "12/12 [==============================] - 0s 9ms/step - loss: 7.3119 - mae: 2.0280 - val_loss: 29.6046 - val_mae: 3.4678\n",
      "Epoch 46/100\n",
      "12/12 [==============================] - 0s 8ms/step - loss: 7.1641 - mae: 2.0162 - val_loss: 32.8597 - val_mae: 3.5630\n",
      "Epoch 47/100\n",
      "12/12 [==============================] - 0s 8ms/step - loss: 7.0373 - mae: 1.9754 - val_loss: 29.0646 - val_mae: 3.3674\n",
      "Epoch 48/100\n",
      "12/12 [==============================] - 0s 10ms/step - loss: 6.8431 - mae: 1.9862 - val_loss: 30.8615 - val_mae: 3.4752\n",
      "Epoch 49/100\n",
      "12/12 [==============================] - 0s 8ms/step - loss: 6.8121 - mae: 1.9738 - val_loss: 28.5740 - val_mae: 3.3669\n",
      "Epoch 50/100\n",
      "12/12 [==============================] - 0s 9ms/step - loss: 6.5312 - mae: 1.9086 - val_loss: 28.7225 - val_mae: 3.3653\n",
      "Epoch 51/100\n",
      "12/12 [==============================] - 0s 9ms/step - loss: 6.4348 - mae: 1.9185 - val_loss: 28.8222 - val_mae: 3.3936\n",
      "Epoch 52/100\n",
      "12/12 [==============================] - 0s 10ms/step - loss: 6.3505 - mae: 1.9192 - val_loss: 27.5490 - val_mae: 3.3383\n",
      "Epoch 53/100\n",
      "12/12 [==============================] - 0s 9ms/step - loss: 6.0513 - mae: 1.8575 - val_loss: 27.0754 - val_mae: 3.3404\n",
      "Epoch 54/100\n",
      "12/12 [==============================] - 0s 8ms/step - loss: 6.2330 - mae: 1.8712 - val_loss: 29.2607 - val_mae: 3.4202\n",
      "Epoch 55/100\n",
      "12/12 [==============================] - 0s 9ms/step - loss: 5.9660 - mae: 1.8637 - val_loss: 28.4836 - val_mae: 3.4191\n",
      "Epoch 56/100\n",
      "12/12 [==============================] - 0s 8ms/step - loss: 5.9944 - mae: 1.8457 - val_loss: 24.6683 - val_mae: 3.2299\n",
      "Epoch 57/100\n",
      "12/12 [==============================] - 0s 9ms/step - loss: 5.6571 - mae: 1.8017 - val_loss: 27.9240 - val_mae: 3.4076\n",
      "Epoch 58/100\n",
      "12/12 [==============================] - 0s 10ms/step - loss: 5.6048 - mae: 1.8299 - val_loss: 29.2053 - val_mae: 3.4728\n",
      "Epoch 59/100\n",
      "12/12 [==============================] - 0s 9ms/step - loss: 5.4385 - mae: 1.7720 - val_loss: 23.6976 - val_mae: 3.1610\n",
      "Epoch 60/100\n",
      "12/12 [==============================] - 0s 9ms/step - loss: 5.5935 - mae: 1.8099 - val_loss: 25.4217 - val_mae: 3.3188\n",
      "Epoch 61/100\n"
     ]
    },
    {
     "name": "stdout",
     "output_type": "stream",
     "text": [
      "12/12 [==============================] - 0s 9ms/step - loss: 5.3113 - mae: 1.7609 - val_loss: 27.5410 - val_mae: 3.4120\n",
      "Epoch 62/100\n",
      "12/12 [==============================] - 0s 8ms/step - loss: 5.2426 - mae: 1.7450 - val_loss: 24.2072 - val_mae: 3.1952\n",
      "Epoch 63/100\n",
      "12/12 [==============================] - 0s 8ms/step - loss: 5.2041 - mae: 1.7553 - val_loss: 25.6998 - val_mae: 3.3223\n",
      "Epoch 64/100\n",
      "12/12 [==============================] - 0s 9ms/step - loss: 5.0989 - mae: 1.7075 - val_loss: 23.0396 - val_mae: 3.1827\n",
      "Epoch 65/100\n",
      "12/12 [==============================] - 0s 9ms/step - loss: 5.1073 - mae: 1.7285 - val_loss: 26.8679 - val_mae: 3.3379\n",
      "Epoch 66/100\n",
      "12/12 [==============================] - 0s 8ms/step - loss: 4.9866 - mae: 1.7151 - val_loss: 29.6811 - val_mae: 3.4808\n",
      "Epoch 67/100\n",
      "12/12 [==============================] - 0s 8ms/step - loss: 5.0088 - mae: 1.7180 - val_loss: 22.0234 - val_mae: 3.0447\n",
      "Epoch 68/100\n",
      "12/12 [==============================] - 0s 9ms/step - loss: 4.8893 - mae: 1.6920 - val_loss: 25.9152 - val_mae: 3.2718\n",
      "Epoch 69/100\n",
      "12/12 [==============================] - 0s 9ms/step - loss: 4.5496 - mae: 1.6437 - val_loss: 25.2454 - val_mae: 3.2645\n",
      "Epoch 70/100\n",
      "12/12 [==============================] - 0s 7ms/step - loss: 4.4986 - mae: 1.6102 - val_loss: 24.4274 - val_mae: 3.2512\n",
      "Epoch 71/100\n",
      "12/12 [==============================] - 0s 7ms/step - loss: 4.3851 - mae: 1.5780 - val_loss: 23.7263 - val_mae: 3.1603\n",
      "Epoch 72/100\n",
      "12/12 [==============================] - 0s 9ms/step - loss: 4.7020 - mae: 1.6812 - val_loss: 26.5144 - val_mae: 3.3664\n",
      "Epoch 73/100\n",
      "12/12 [==============================] - 0s 10ms/step - loss: 4.4619 - mae: 1.6281 - val_loss: 25.6483 - val_mae: 3.2771\n",
      "Epoch 74/100\n",
      "12/12 [==============================] - 0s 8ms/step - loss: 4.2446 - mae: 1.5621 - val_loss: 23.1437 - val_mae: 3.1621\n",
      "Epoch 75/100\n",
      "12/12 [==============================] - 0s 7ms/step - loss: 4.1941 - mae: 1.5483 - val_loss: 24.4475 - val_mae: 3.2213\n",
      "Epoch 76/100\n",
      "12/12 [==============================] - 0s 8ms/step - loss: 4.1007 - mae: 1.5233 - val_loss: 24.4011 - val_mae: 3.2016\n",
      "Epoch 77/100\n",
      "12/12 [==============================] - 0s 7ms/step - loss: 3.9885 - mae: 1.5270 - val_loss: 22.9175 - val_mae: 3.1584\n",
      "Epoch 78/100\n",
      "12/12 [==============================] - 0s 9ms/step - loss: 3.9726 - mae: 1.4958 - val_loss: 22.3622 - val_mae: 3.0758\n",
      "Epoch 79/100\n",
      "12/12 [==============================] - 0s 8ms/step - loss: 3.9568 - mae: 1.5301 - val_loss: 24.2059 - val_mae: 3.2229\n",
      "Epoch 80/100\n",
      "12/12 [==============================] - 0s 9ms/step - loss: 3.9104 - mae: 1.4846 - val_loss: 23.2432 - val_mae: 3.2169\n",
      "Epoch 81/100\n",
      "12/12 [==============================] - 0s 7ms/step - loss: 3.7377 - mae: 1.4833 - val_loss: 24.3587 - val_mae: 3.2552\n",
      "Epoch 82/100\n",
      "12/12 [==============================] - 0s 8ms/step - loss: 3.6685 - mae: 1.4626 - val_loss: 26.0521 - val_mae: 3.2781\n",
      "Epoch 83/100\n",
      "12/12 [==============================] - 0s 7ms/step - loss: 3.7127 - mae: 1.4596 - val_loss: 23.1975 - val_mae: 3.1065\n",
      "Epoch 84/100\n",
      "12/12 [==============================] - 0s 8ms/step - loss: 3.6200 - mae: 1.4455 - val_loss: 22.2413 - val_mae: 3.0606\n",
      "Epoch 85/100\n",
      "12/12 [==============================] - 0s 7ms/step - loss: 3.5957 - mae: 1.4313 - val_loss: 22.5648 - val_mae: 3.1206\n",
      "Epoch 86/100\n",
      "12/12 [==============================] - 0s 9ms/step - loss: 3.5110 - mae: 1.3960 - val_loss: 25.4949 - val_mae: 3.2908\n",
      "Epoch 87/100\n",
      "12/12 [==============================] - 0s 7ms/step - loss: 3.4958 - mae: 1.4208 - val_loss: 24.3938 - val_mae: 3.1356\n",
      "Epoch 88/100\n",
      "12/12 [==============================] - 0s 8ms/step - loss: 3.5582 - mae: 1.4469 - val_loss: 21.8915 - val_mae: 3.0376\n",
      "Epoch 89/100\n",
      "12/12 [==============================] - 0s 8ms/step - loss: 3.4020 - mae: 1.3666 - val_loss: 21.4599 - val_mae: 2.9952\n",
      "Epoch 90/100\n",
      "12/12 [==============================] - 0s 8ms/step - loss: 3.2326 - mae: 1.3574 - val_loss: 22.2129 - val_mae: 3.1246\n",
      "Epoch 91/100\n",
      "12/12 [==============================] - 0s 7ms/step - loss: 3.2493 - mae: 1.3628 - val_loss: 23.5151 - val_mae: 3.1295\n",
      "Epoch 92/100\n",
      "12/12 [==============================] - 0s 7ms/step - loss: 3.1388 - mae: 1.3269 - val_loss: 23.6589 - val_mae: 3.0611\n",
      "Epoch 93/100\n",
      "12/12 [==============================] - 0s 7ms/step - loss: 3.1233 - mae: 1.3342 - val_loss: 21.1233 - val_mae: 2.9461\n",
      "Epoch 94/100\n",
      "12/12 [==============================] - 0s 8ms/step - loss: 3.1661 - mae: 1.3309 - val_loss: 23.6154 - val_mae: 3.1297\n",
      "Epoch 95/100\n",
      "12/12 [==============================] - 0s 8ms/step - loss: 3.5468 - mae: 1.4289 - val_loss: 25.6488 - val_mae: 3.1956\n",
      "Epoch 96/100\n",
      "12/12 [==============================] - 0s 9ms/step - loss: 3.7170 - mae: 1.4744 - val_loss: 22.1357 - val_mae: 3.1080\n",
      "Epoch 97/100\n",
      "12/12 [==============================] - 0s 8ms/step - loss: 3.2998 - mae: 1.3654 - val_loss: 21.8552 - val_mae: 3.0664\n",
      "Epoch 98/100\n",
      "12/12 [==============================] - 0s 7ms/step - loss: 3.2627 - mae: 1.3816 - val_loss: 22.6286 - val_mae: 3.0797\n",
      "Epoch 99/100\n",
      "12/12 [==============================] - 0s 9ms/step - loss: 3.0908 - mae: 1.3260 - val_loss: 22.4770 - val_mae: 3.0708\n",
      "Epoch 100/100\n",
      "12/12 [==============================] - 0s 9ms/step - loss: 2.8196 - mae: 1.2830 - val_loss: 20.1691 - val_mae: 2.8952\n"
     ]
    },
    {
     "data": {
      "image/png": "[encoded data removed]",
      "text/plain": [
       "<Figure size 432x288 with 1 Axes>"
      ]
     },
     "metadata": {
      "needs_background": "light"
     },
     "output_type": "display_data"
    }
   ],
   "source": [
    "import keras\n",
    "from keras.layers import Dense\n",
    "from keras.models import Sequential\n",
    "from sklearn.preprocessing import StandardScaler\n",
    "import matplotlib.pyplot as plt\n",
    "\n",
    "# Assuming X_train and X_test are defined and initialized previously\n",
    "# Assuming y_train is also defined and initialized\n",
    "\n",
    "# Scaling the dataset\n",
    "sc = StandardScaler()\n",
    "X_train = sc.fit_transform(X_train)\n",
    "X_test = sc.transform(X_test)\n",
    "\n",
    "# Creating the neural network model\n",
    "model = Sequential()\n",
    "model.add(Dense(128, activation='relu', input_dim=13))\n",
    "model.add(Dense(64, activation='relu'))\n",
    "model.add(Dense(32, activation='relu'))\n",
    "model.add(Dense(16, activation='relu'))\n",
    "model.add(Dense(1))\n",
    "\n",
    "# Compiling the model\n",
    "model.compile(optimizer='adam', loss='mean_squared_error', metrics=['mae'])\n",
    "\n",
    "# Visualizing the model architecture\n",
    "keras.utils.plot_model(model, to_file='model.png', show_shapes=True, show_layer_names=True)\n",
    "\n",
    "# Assuming you have defined your training data X_train and y_train\n",
    "history = model.fit(X_train, y_train, epochs=100, validation_split=0.05)\n",
    "\n",
    "# Plotting the training and validation loss\n",
    "plt.plot(history.history['loss'], label='Training Loss')\n",
    "plt.plot(history.history['val_loss'], label='Validation Loss')\n",
    "plt.xlabel('Epochs')\n",
    "plt.ylabel('Loss')\n",
    "plt.legend()\n",
    "plt.show()\n"
   ]
  },
  {
   "cell_type": "code",
   "execution_count": 17,
   "metadata": {
    "colab": {
     "base_uri": "https://localhost:8080/"
    },
    "id": "wViXDPe8RIh6",
    "outputId": "a4d1701a-2832-4d3f-dc4d-a9e2f43cb44e"
   },
   "outputs": [
    {
     "name": "stdout",
     "output_type": "stream",
     "text": [
      "4/4 [==============================] - 0s 4ms/step\n",
      "4/4 [==============================] - 0s 6ms/step - loss: 11.8925 - mae: 2.2676\n",
      "Mean squared error on test data:  11.892463684082031\n",
      "Mean absolute error on test data:  2.2675862312316895\n"
     ]
    }
   ],
   "source": [
    "#Evaluation of the model\n",
    "y_pred = model.predict(X_test)\n",
    "mse_nn, mae_nn = model.evaluate(X_test, y_test)\n",
    "print('Mean squared error on test data: ', mse_nn)\n",
    "print('Mean absolute error on test data: ', mae_nn)"
   ]
  },
  {
   "cell_type": "code",
   "execution_count": 18,
   "metadata": {
    "colab": {
     "base_uri": "https://localhost:8080/"
    },
    "id": "ZcrAOcP7RJMh",
    "outputId": "e786b46e-e806-4cdb-dc99-5a2b0a194b89"
   },
   "outputs": [
    {
     "name": "stdout",
     "output_type": "stream",
     "text": [
      "Mean squared error on test data:  25.01767202384286\n",
      "Mean absolute error on test data:  3.1499233573458034\n",
      "0.8378310222849991\n"
     ]
    }
   ],
   "source": [
    "#Comparison with traditional approaches\n",
    "#First let's try with a simple algorithm, the Linear Regression:\n",
    "from sklearn.metrics import mean_absolute_error\n",
    "lr_model = LinearRegression()\n",
    "lr_model.fit(X_train, y_train)\n",
    "y_pred_lr = lr_model.predict(X_test)\n",
    "mse_lr = mean_squared_error(y_test, y_pred_lr)\n",
    "mae_lr = mean_absolute_error(y_test, y_pred_lr)\n",
    "print('Mean squared error on test data: ', mse_lr)\n",
    "print('Mean absolute error on test data: ', mae_lr)\n",
    "from sklearn.metrics import r2_score\n",
    "r2 = r2_score(y_test, y_pred)\n",
    "print(r2)"
   ]
  },
  {
   "cell_type": "code",
   "execution_count": 19,
   "metadata": {
    "colab": {
     "base_uri": "https://localhost:8080/"
    },
    "id": "FXmALUFURO0Q",
    "outputId": "56057a7d-51ff-49f2-e8ba-326d08082f9e"
   },
   "outputs": [
    {
     "name": "stdout",
     "output_type": "stream",
     "text": [
      "3.448545294335442\n"
     ]
    }
   ],
   "source": [
    "# Predicting RMSE the Test set results\n",
    "from sklearn.metrics import mean_squared_error\n",
    "rmse = (np.sqrt(mean_squared_error(y_test, y_pred)))\n",
    "print(rmse)"
   ]
  },
  {
   "cell_type": "code",
   "execution_count": 20,
   "metadata": {
    "colab": {
     "base_uri": "https://localhost:8080/"
    },
    "id": "moieIcaXRbFu",
    "outputId": "a3d36202-f1cb-4f13-8140-f87ae1d00a8c"
   },
   "outputs": [
    {
     "name": "stdout",
     "output_type": "stream",
     "text": [
      "1/1 [==============================] - 0s 246ms/step\n",
      "Predicted house price: [[14.101335]]\n"
     ]
    }
   ],
   "source": [
    "# Make predictions on new data\n",
    "import sklearn\n",
    "new_data = scaler.transform([[0.1, 10.0, 5.0, 0, 0.4, 6.0, 50, 6.0, 1, 400, 20, 300, 10]])  # Scaling new data\n",
    "prediction = model.predict(new_data)\n",
    "print(\"Predicted house price:\", prediction)"
   ]
  }
 ],
 "metadata": {
  "colab": {
   "provenance": []
  },
  "kernelspec": {
   "display_name": "Python 3",
   "language": "python",
   "name": "python3"
  },
  "language_info": {
   "codemirror_mode": {
    "name": "ipython",
    "version": 3
   },
   "file_extension": ".py",
   "mimetype": "text/x-python",
   "name": "python",
   "nbconvert_exporter": "python",
   "pygments_lexer": "ipython3",
   "version": "3.8.8"
  }
 },
 "nbformat": 4,
 "nbformat_minor": 1
}
