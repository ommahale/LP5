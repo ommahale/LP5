{
 "cells": [
  {
   "cell_type": "markdown",
   "metadata": {},
   "source": [
    "Use MNIST Fashion Dataset and create a classifier to classify fashion clothing into\n",
    "categories."
   ]
  },
  {
   "cell_type": "code",
   "execution_count": 1,
   "metadata": {
    "colab": {
     "base_uri": "https://localhost:8080/"
    },
    "id": "_j-jTUIGjxog",
    "outputId": "55c7705f-17d3-4a42-bd33-c7f943210796"
   },
   "outputs": [
    {
     "name": "stdout",
     "output_type": "stream",
     "text": [
      "Downloading data from https://storage.googleapis.com/tensorflow/tf-keras-datasets/train-labels-idx1-ubyte.gz\n",
      "29515/29515 [==============================] - 0s 4us/step\n",
      "Downloading data from https://storage.googleapis.com/tensorflow/tf-keras-datasets/train-images-idx3-ubyte.gz\n",
      "26421880/26421880 [==============================] - 20s 1us/step\n",
      "Downloading data from https://storage.googleapis.com/tensorflow/tf-keras-datasets/t10k-labels-idx1-ubyte.gz\n",
      "5148/5148 [==============================] - 0s 0s/step\n",
      "Downloading data from https://storage.googleapis.com/tensorflow/tf-keras-datasets/t10k-images-idx3-ubyte.gz\n",
      "4422102/4422102 [==============================] - 2s 0us/step\n"
     ]
    }
   ],
   "source": [
    "import tensorflow as tf\n",
    "import matplotlib.pyplot as plt\n",
    "from tensorflow import keras\n",
    "import numpy as np\n",
    "\n",
    "(x_train, y_train), (x_test, y_test) = keras.datasets.fashion_mnist.load_data()\n",
    "\n",
    "# There are 10 image classes in this dataset and each class has a mapping corresponding to the following labels:\n",
    "\n",
    "#0 T-shirt/top\n",
    "#1 Trouser\n",
    "#2 pullover\n",
    "#3 Dress\n",
    "#4 Coat\n",
    "#5 sandals\n",
    "#6 shirt\n",
    "#7 sneaker\n",
    "#8 bag\n",
    "#9 ankle boot"
   ]
  },
  {
   "cell_type": "code",
   "execution_count": 2,
   "metadata": {
    "colab": {
     "base_uri": "https://localhost:8080/",
     "height": 447
    },
    "id": "EPJO4exOTkPW",
    "outputId": "2881a583-6bb8-46fc-93c3-f54ee9cdf547"
   },
   "outputs": [
    {
     "data": {
      "text/plain": [
       "<matplotlib.image.AxesImage at 0x16ebe6f2fa0>"
      ]
     },
     "execution_count": 2,
     "metadata": {},
     "output_type": "execute_result"
    },
    {
     "data": {
      "image/png": "[encoded data removed]",
      "text/plain": [
       "<Figure size 432x288 with 1 Axes>"
      ]
     },
     "metadata": {
      "needs_background": "light"
     },
     "output_type": "display_data"
    }
   ],
   "source": [
    "plt.imshow(x_train[1])"
   ]
  },
  {
   "cell_type": "markdown",
   "metadata": {
    "id": "YFZgYodrtFFw"
   },
   "source": [
    "plt.imshow(): This is a function from the matplotlib library, specifically used to display images. It takes an array-like object as input and renders it as an image.\n",
    "\n",
    "x_train[1]: This accesses the second element (index 1) of the x_train array, which contains the input images from the Fashion MNIST dataset. Each element of x_train is a 2D array representing a grayscale image.\n",
    "\n",
    "So, plt.imshow(x_train[1]) displays the second image from the training set (x_train[1]) as a grayscale image using matplotlib. Since the Fashion MNIST dataset contains grayscale images, imshow() will render the image in grayscale by default."
   ]
  },
  {
   "cell_type": "code",
   "execution_count": 3,
   "metadata": {
    "colab": {
     "base_uri": "https://localhost:8080/",
     "height": 447
    },
    "id": "g6gwec8jYnpV",
    "outputId": "1713da35-d39a-4fb9-9cd3-717337d18924"
   },
   "outputs": [
    {
     "data": {
      "text/plain": [
       "<matplotlib.image.AxesImage at 0x16ebe720f70>"
      ]
     },
     "execution_count": 3,
     "metadata": {},
     "output_type": "execute_result"
    },
    {
     "data": {
      "image/png": "[encoded data removed]",
      "text/plain": [
       "<Figure size 432x288 with 1 Axes>"
      ]
     },
     "metadata": {
      "needs_background": "light"
     },
     "output_type": "display_data"
    }
   ],
   "source": [
    "plt.imshow(x_train[0])"
   ]
  },
  {
   "cell_type": "markdown",
   "metadata": {
    "id": "y-uAX_9PtO8Q"
   },
   "source": [
    "plt.imshow(): This function, as before, is used to display images using matplotlib.\n",
    "\n",
    "x_train[0]: This retrieves the first element (index 0) of the x_train array, which represents the input image data from the Fashion MNIST dataset. Each element of x_train is a 2D array representing a grayscale image.\n",
    "\n",
    "So, plt.imshow(x_train[0]) displays the first image from the training set (x_train[0]) as a grayscale image using matplotlib. Since the Fashion MNIST dataset contains grayscale images, imshow() will render the image in grayscale by default."
   ]
  },
  {
   "cell_type": "markdown",
   "metadata": {
    "id": "GMqAGmsetHno"
   },
   "source": []
  },
  {
   "cell_type": "code",
   "execution_count": 4,
   "metadata": {
    "id": "0-c-5JWYPPqT"
   },
   "outputs": [],
   "source": [
    "# Next, we will preprocess the data by scaling the pixel values to be between 0 and 1, and then reshaping the images to be 28x28 pixels.\n",
    "\n",
    "x_train = x_train.astype('float32') / 255.0\n",
    "x_test = x_test.astype('float32') / 255.0\n",
    "\n",
    "x_train = x_train.reshape(-1, 28, 28, 1)\n",
    "x_test = x_test.reshape(-1, 28, 28, 1)\n",
    "\n",
    "# 28, 28 comes from width, height, 1 comes from the number of channels\n",
    "# -1 means that the length in that dimension is inferred.\n",
    "# This is done based on the constraint that the number of elements in an ndarray or Tensor when reshaped must remain the same.\n",
    "\n",
    "# each image is a row vector (784 elements) and there are lots of such rows (let it be n, so there are 784n elements). So TensorFlow can infer that -1 is n.\n"
   ]
  },
  {
   "cell_type": "code",
   "execution_count": 5,
   "metadata": {
    "colab": {
     "base_uri": "https://localhost:8080/"
    },
    "id": "Th54tYxXPyiB",
    "outputId": "2c57f6f9-2e1d-417c-b574-49b6e361805a"
   },
   "outputs": [
    {
     "data": {
      "text/plain": [
       "(60000, 28, 28, 1)"
      ]
     },
     "execution_count": 5,
     "metadata": {},
     "output_type": "execute_result"
    }
   ],
   "source": [
    "# converting the training_images array to 4 dimensional array with sizes 60000, 28, 28, 1 for 0th to 3rd dimension.\n",
    "\n",
    "x_train.shape"
   ]
  },
  {
   "cell_type": "code",
   "execution_count": 6,
   "metadata": {
    "colab": {
     "base_uri": "https://localhost:8080/"
    },
    "id": "6TMVZKAtP4BL",
    "outputId": "ecb775ce-92c6-45b0-d01d-624d110f709b"
   },
   "outputs": [
    {
     "data": {
      "text/plain": [
       "(10000, 28, 28, 1)"
      ]
     },
     "execution_count": 6,
     "metadata": {},
     "output_type": "execute_result"
    }
   ],
   "source": [
    "x_test.shape"
   ]
  },
  {
   "cell_type": "code",
   "execution_count": 7,
   "metadata": {
    "colab": {
     "base_uri": "https://localhost:8080/"
    },
    "id": "dCYL-C4PP_ki",
    "outputId": "10aa5237-88f0-44db-b154-ded24688b66e"
   },
   "outputs": [
    {
     "data": {
      "text/plain": [
       "(60000,)"
      ]
     },
     "execution_count": 7,
     "metadata": {},
     "output_type": "execute_result"
    }
   ],
   "source": [
    "y_train.shape"
   ]
  },
  {
   "cell_type": "code",
   "execution_count": 8,
   "metadata": {
    "colab": {
     "base_uri": "https://localhost:8080/"
    },
    "id": "5ocddGOxQFiM",
    "outputId": "cdeb3618-f46e-4051-913d-fb31ad7ff0b5"
   },
   "outputs": [
    {
     "data": {
      "text/plain": [
       "(10000,)"
      ]
     },
     "execution_count": 8,
     "metadata": {},
     "output_type": "execute_result"
    }
   ],
   "source": [
    "y_test.shape"
   ]
  },
  {
   "cell_type": "code",
   "execution_count": 9,
   "metadata": {
    "id": "txTuSANLQJ1S"
   },
   "outputs": [],
   "source": [
    "# We will use a convolutional neural network (CNN) to classify the fashion items.\n",
    "# The CNN will consist of multiple convolutional layers followed by max pooling,\n",
    "# dropout, and dense layers. Here is the code for the model:\n",
    "\n",
    "model = keras.Sequential([\n",
    "    keras.layers.Conv2D(32, (3,3), activation='relu', input_shape=(28,28,1)),\n",
    "    # 32 filters (default), randomly initialized\n",
    "    # 3*3 is Size of Filter\n",
    "    # 28,28,1 size of Input Image\n",
    "    # No zero-padding: every output 2 pixels less in every dimension\n",
    "    # in Paramter shwon 320 is value of weights: (3x3 filter weights + 32 bias) * 32 filters\n",
    "    # 32*3*3=288(Total)+32(bias)= 320\n",
    "\n",
    "\n",
    "    keras.layers.MaxPooling2D((2,2)),\n",
    "    # It shown 13 * 13 size image with 32 channel or filter or depth.\n",
    "\n",
    "    keras.layers.Dropout(0.25),\n",
    "    # Reduce Overfitting of Training sample drop out 25% Neuron\n",
    "\n",
    "    keras.layers.Conv2D(64, (3,3), activation='relu'),\n",
    "    # Deeper layers use 64 filters\n",
    "    # 3*3 is Size of Filter\n",
    "    # Observe how the input image on 28x28x1 is transformed to a 3x3x64 feature map\n",
    "    # 13(Size)-3(Filter Size )+1(bias)=11 Size for Width and Height with 64 Depth or filtter or channel\n",
    "    # in Paramter shwon 18496 is value of weights: (3x3 filter weights + 64 bias) * 64 filters\n",
    "    # 64*3*3=576+1=577*32 + 32(bias)=18496\n",
    "\n",
    "    keras.layers.MaxPooling2D((2,2)),\n",
    "    # It shown 5 * 5 size image with 64 channel or filter or depth.\n",
    "\n",
    "    keras.layers.Dropout(0.25),\n",
    "\n",
    "    keras.layers.Conv2D(128, (3,3), activation='relu'),\n",
    "    # Deeper layers use 128 filters\n",
    "    # 3*3 is Size of Filter\n",
    "    # Observe how the input image on 28x28x1 is transformed to a 3x3x128 feature map\n",
    "    # It show 5(Size)-3(Filter Size )+1(bias)=3 Size for Width and Height with 64 Depth or filtter or channel\n",
    "    # 128*3*3=1152+1=1153*64 + 64(bias)= 73856\n",
    "\n",
    "    # To classify the images, we still need a Dense and Softmax layer.\n",
    "    # We need to flatten the 3x3x128 feature map to a vector of size 1152\n",
    "    # https://medium.com/@iamvarman/how-to-calculate-the-number-of-parameters-in-the-cnn-5bd55364d7ca\n",
    "\n",
    "    keras.layers.Flatten(),\n",
    "    keras.layers.Dense(128, activation='relu'),\n",
    "    # 128 Size of Node in Dense Layer\n",
    "    # 1152*128 = 147584\n",
    "\n",
    "    keras.layers.Dropout(0.25),\n",
    "    keras.layers.Dense(10, activation='softmax')\n",
    "    # 10 Size of Node another Dense Layer\n",
    "    # 128*10+10 bias= 1290\n",
    "])"
   ]
  },
  {
   "cell_type": "code",
   "execution_count": 10,
   "metadata": {
    "colab": {
     "base_uri": "https://localhost:8080/"
    },
    "id": "WzBjU3g3idgx",
    "outputId": "5f190c33-9156-463f-ad66-f90dc6a42e8d"
   },
   "outputs": [
    {
     "name": "stdout",
     "output_type": "stream",
     "text": [
      "Model: \"sequential\"\n",
      "_________________________________________________________________\n",
      " Layer (type)                Output Shape              Param #   \n",
      "=================================================================\n",
      " conv2d (Conv2D)             (None, 26, 26, 32)        320       \n",
      "                                                                 \n",
      " max_pooling2d (MaxPooling2D  (None, 13, 13, 32)       0         \n",
      " )                                                               \n",
      "                                                                 \n",
      " dropout (Dropout)           (None, 13, 13, 32)        0         \n",
      "                                                                 \n",
      " conv2d_1 (Conv2D)           (None, 11, 11, 64)        18496     \n",
      "                                                                 \n",
      " max_pooling2d_1 (MaxPooling  (None, 5, 5, 64)         0         \n",
      " 2D)                                                             \n",
      "                                                                 \n",
      " dropout_1 (Dropout)         (None, 5, 5, 64)          0         \n",
      "                                                                 \n",
      " conv2d_2 (Conv2D)           (None, 3, 3, 128)         73856     \n",
      "                                                                 \n",
      " flatten (Flatten)           (None, 1152)              0         \n",
      "                                                                 \n",
      " dense (Dense)               (None, 128)               147584    \n",
      "                                                                 \n",
      " dropout_2 (Dropout)         (None, 128)               0         \n",
      "                                                                 \n",
      " dense_1 (Dense)             (None, 10)                1290      \n",
      "                                                                 \n",
      "=================================================================\n",
      "Total params: 241,546\n",
      "Trainable params: 241,546\n",
      "Non-trainable params: 0\n",
      "_________________________________________________________________\n"
     ]
    }
   ],
   "source": [
    "model.summary()"
   ]
  },
  {
   "cell_type": "code",
   "execution_count": 11,
   "metadata": {
    "colab": {
     "base_uri": "https://localhost:8080/"
    },
    "id": "p8ziWNG1QTJh",
    "outputId": "a80643b4-e92d-4219-d647-3442490d4234"
   },
   "outputs": [
    {
     "name": "stdout",
     "output_type": "stream",
     "text": [
      "Epoch 1/10\n",
      "1875/1875 [==============================] - 54s 27ms/step - loss: 0.5724 - accuracy: 0.7858 - val_loss: 0.3757 - val_accuracy: 0.8620\n",
      "Epoch 2/10\n",
      "1875/1875 [==============================] - 51s 27ms/step - loss: 0.3712 - accuracy: 0.8638 - val_loss: 0.3395 - val_accuracy: 0.8729\n",
      "Epoch 3/10\n",
      "1875/1875 [==============================] - 51s 27ms/step - loss: 0.3210 - accuracy: 0.8822 - val_loss: 0.2969 - val_accuracy: 0.8942\n",
      "Epoch 4/10\n",
      "1875/1875 [==============================] - 51s 27ms/step - loss: 0.2952 - accuracy: 0.8912 - val_loss: 0.2805 - val_accuracy: 0.8947\n",
      "Epoch 5/10\n",
      "1875/1875 [==============================] - 52s 28ms/step - loss: 0.2742 - accuracy: 0.8981 - val_loss: 0.2626 - val_accuracy: 0.9029\n",
      "Epoch 6/10\n",
      "1875/1875 [==============================] - 52s 28ms/step - loss: 0.2619 - accuracy: 0.9021 - val_loss: 0.2720 - val_accuracy: 0.9000\n",
      "Epoch 7/10\n",
      "1875/1875 [==============================] - 53s 28ms/step - loss: 0.2519 - accuracy: 0.9057 - val_loss: 0.2544 - val_accuracy: 0.9089\n",
      "Epoch 8/10\n",
      "1875/1875 [==============================] - 53s 28ms/step - loss: 0.2420 - accuracy: 0.9088 - val_loss: 0.2545 - val_accuracy: 0.9087\n",
      "Epoch 9/10\n",
      "1875/1875 [==============================] - 53s 28ms/step - loss: 0.2333 - accuracy: 0.9123 - val_loss: 0.2581 - val_accuracy: 0.9080\n",
      "Epoch 10/10\n",
      "1875/1875 [==============================] - 54s 29ms/step - loss: 0.2259 - accuracy: 0.9159 - val_loss: 0.2636 - val_accuracy: 0.9076\n"
     ]
    }
   ],
   "source": [
    "# Compile and Train the Model\n",
    "# After defining the model, we will compile it and train it on the training data.\n",
    "\n",
    "model.compile(optimizer='adam', loss='sparse_categorical_crossentropy', metrics=['accuracy'])\n",
    "\n",
    "history = model.fit(x_train, y_train, epochs=10, validation_data=(x_test, y_test))\n",
    "\n",
    "# 1875 is a number of batches. By default batches contain 32 samles.60000 / 32 = 1875"
   ]
  },
  {
   "cell_type": "code",
   "execution_count": 12,
   "metadata": {
    "colab": {
     "base_uri": "https://localhost:8080/"
    },
    "id": "BhG8LcfRQnQl",
    "outputId": "683ddb44-7d10-447b-f7c0-a98ab8cb44d0"
   },
   "outputs": [
    {
     "name": "stdout",
     "output_type": "stream",
     "text": [
      "313/313 [==============================] - 3s 11ms/step - loss: 0.2636 - accuracy: 0.9076\n",
      "Test accuracy: 0.9075999855995178\n"
     ]
    }
   ],
   "source": [
    "# Finally, we will evaluate the performance of the model on the test data.\n",
    "\n",
    "test_loss, test_acc = model.evaluate(x_test, y_test)\n",
    "\n",
    "print('Test accuracy:', test_acc)"
   ]
  }
 ],
 "metadata": {
  "colab": {
   "provenance": []
  },
  "kernelspec": {
   "display_name": "Python 3",
   "language": "python",
   "name": "python3"
  },
  "language_info": {
   "codemirror_mode": {
    "name": "ipython",
    "version": 3
   },
   "file_extension": ".py",
   "mimetype": "text/x-python",
   "name": "python",
   "nbconvert_exporter": "python",
   "pygments_lexer": "ipython3",
   "version": "3.8.8"
  }
 },
 "nbformat": 4,
 "nbformat_minor": 1
}
